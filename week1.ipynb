{
 "cells": [
  {
   "cell_type": "code",
   "execution_count": 4,
   "metadata": {},
   "outputs": [
    {
     "name": "stdout",
     "output_type": "stream",
     "text": [
      "Difference: 5\n",
      "Product: 50\n",
      "Quotient: 0\n",
      "Remainder: 5\n",
      "Log10 of a: 0.6989700043360189\n",
      "Exponent: 9765625\n"
     ]
    }
   ],
   "source": [
    "#1\n",
    "\n",
    "import math\n",
    "a = input(\"Enter a number a: \")\n",
    "b = input(\"Enter a number b: \")\n",
    "\n",
    "a = int(a)\n",
    "b = int(b)\n",
    "\n",
    "print(\"Difference:\", b-a)\n",
    "print(\"Product:\", a*b)\n",
    "print(\"Quotient:\", a//b)\n",
    "print(\"Remainder:\", a%b)\n",
    "print(\"Log10 of a:\", math.log10(a))\n",
    "print(\"Exponent:\", a**b)"
   ]
  },
  {
   "cell_type": "code",
   "execution_count": 5,
   "metadata": {},
   "outputs": [
    {
     "name": "stdout",
     "output_type": "stream",
     "text": [
      "Litres per 100 km: 3.920166666666667\n"
     ]
    }
   ],
   "source": [
    "#2\n",
    "\n",
    "mpg = input(\"Miles per gallon: \")\n",
    "mpg = float(mpg)\n",
    "\n",
    "lp_100km = 235.21/mpg\n",
    "\n",
    "print(\"Litres per 100 km:\", lp_100km)"
   ]
  },
  {
   "cell_type": "code",
   "execution_count": 6,
   "metadata": {},
   "outputs": [
    {
     "name": "stdout",
     "output_type": "stream",
     "text": [
      "It takes approx. 4.24 hours to fly from stockholm to cairo\n"
     ]
    }
   ],
   "source": [
    "#3\n",
    "\n",
    "import math\n",
    "\n",
    "city1 = input(\"Enter your current city:\")\n",
    "lat1 = input(\"Current latitude:\")\n",
    "long1 = input(\"Current longitude:\")\n",
    "\n",
    "city2 = input(\"Enter your destination city:\")\n",
    "lat2 = input(\"Destination latitude:\")\n",
    "long2 = input(\"Destination longitude:\")\n",
    "\n",
    "lat1 = math.radians(float(lat1))\n",
    "long1 = math.radians(float(long1))\n",
    "lat2 = math.radians(float(lat2))\n",
    "long2 = math.radians(float(long2))\n",
    "\n",
    "distance = 6371.01 * math.acos(math.sin(lat1) *(lat2)+math.cos(lat1)* math.cos(lat2)* math.cos(long1-long2))\n",
    "\n",
    "time = round((distance / 740), 2)\n",
    "\n",
    "print(f\"It takes approx. {time} hours to fly from {city1} to {city2}\")"
   ]
  },
  {
   "cell_type": "code",
   "execution_count": 7,
   "metadata": {},
   "outputs": [
    {
     "name": "stdout",
     "output_type": "stream",
     "text": [
      "Distance in inches: 216\n",
      "Distance in yards: 6.0\n",
      "Distance in miles: 0.003409090909090909\n"
     ]
    }
   ],
   "source": [
    "#4\n",
    "\n",
    "ft = int(input(\"Enter distance in feet: \"))\n",
    "\n",
    "inches = ft*12\n",
    "yards = ft/3\n",
    "miles = ft/5280\n",
    "\n",
    "print(\"Distance in inches:\", inches)\n",
    "print(\"Distance in yards:\", yards)\n",
    "print(\"Distance in miles:\", miles)"
   ]
  },
  {
   "cell_type": "code",
   "execution_count": 8,
   "metadata": {},
   "outputs": [
    {
     "name": "stdout",
     "output_type": "stream",
     "text": [
      "Area of polygon: 482.84\n"
     ]
    }
   ],
   "source": [
    "#5\n",
    "\n",
    "import math\n",
    "\n",
    "s = float(input(\"Enter side length: \"))\n",
    "n = float(input(\"Enter number of sides: \"))\n",
    "\n",
    "area = (n * s**2) / (4 * math.tan(math.pi/n))\n",
    "\n",
    "print(\"Area of polygon:\", round(area, 2))"
   ]
  },
  {
   "cell_type": "code",
   "execution_count": 9,
   "metadata": {},
   "outputs": [
    {
     "name": "stdout",
     "output_type": "stream",
     "text": [
      "Wed Nov 30 13:20:50 2022\n"
     ]
    }
   ],
   "source": [
    "#6\n",
    "\n",
    "import time\n",
    "print(time.asctime())"
   ]
  },
  {
   "cell_type": "code",
   "execution_count": 14,
   "metadata": {},
   "outputs": [
    {
     "name": "stdout",
     "output_type": "stream",
     "text": [
      "Wind Chill Index: 17.0\n"
     ]
    }
   ],
   "source": [
    "#7\n",
    "\n",
    "T = float(input(\"Enter air temperature in degrees Celsius: \"))\n",
    "V = float(input(\"Enter wind speed in kilometers per hour: \"))\n",
    "\n",
    "WCI = 13.12 + 0.6215 * T - 11.37 * V**0.16 + 0.3965 * T * V**0.16\n",
    "\n",
    "print(\"Wind Chill Index:\", round(WCI, 0))"
   ]
  },
  {
   "cell_type": "code",
   "execution_count": 15,
   "metadata": {},
   "outputs": [
    {
     "name": "stdout",
     "output_type": "stream",
     "text": [
      "Sum of digits in 4567 is 22\n"
     ]
    }
   ],
   "source": [
    "#8\n",
    "\n",
    "number = input(\"Enter four digit number: \")\n",
    "\n",
    "L = list(number)\n",
    "\n",
    "sum = int(L[0]) + int(L[1]) + int(L[2]) + int(L[3])\n",
    "#^would appreciate any tips on how to convert to int more efficiently\n",
    "\n",
    "print(f\"Sum of digits in {number} is {sum}\")"
   ]
  }
 ],
 "metadata": {
  "kernelspec": {
   "display_name": "Python 3.10.4 64-bit",
   "language": "python",
   "name": "python3"
  },
  "language_info": {
   "codemirror_mode": {
    "name": "ipython",
    "version": 3
   },
   "file_extension": ".py",
   "mimetype": "text/x-python",
   "name": "python",
   "nbconvert_exporter": "python",
   "pygments_lexer": "ipython3",
   "version": "3.10.4"
  },
  "orig_nbformat": 4,
  "vscode": {
   "interpreter": {
    "hash": "3ad933181bd8a04b432d3370b9dc3b0662ad032c4dfaa4e4f1596c548f763858"
   }
  }
 },
 "nbformat": 4,
 "nbformat_minor": 2
}
