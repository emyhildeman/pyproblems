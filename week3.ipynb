{
 "cells": [
  {
   "cell_type": "code",
   "execution_count": 6,
   "metadata": {},
   "outputs": [
    {
     "name": "stdout",
     "output_type": "stream",
     "text": [
      "13 is an odd number\n",
      "and a prime number\n"
     ]
    }
   ],
   "source": [
    "#1\n",
    "\n",
    "i = int(input(\"Enter a number: \"))\n",
    "\n",
    "if i %2 == 0:  \n",
    "    print(i, \"is an even number\")\n",
    "else:\n",
    "    print(i, \"is an odd number\")\n",
    "\n",
    "if i <= 1:\n",
    "     print(\"but not a prime number\")\n",
    "elif i == 2:\n",
    "    print(\"and a prime number\")\n",
    "\n",
    "for number in range(2, i):\n",
    "    if i % number == 0:\n",
    "        print(\"but not a prime number\")\n",
    "    else:\n",
    "        print(\"and a prime number\")\n",
    "    break"
   ]
  },
  {
   "cell_type": "code",
   "execution_count": 7,
   "metadata": {},
   "outputs": [
    {
     "name": "stdout",
     "output_type": "stream",
     "text": [
      "Number of roots: 2\n",
      "Root values: 13.45584412271571 and -37.45584412271571\n"
     ]
    }
   ],
   "source": [
    "#2\n",
    "\n",
    "a = int(input(\"Please enter value a\"))\n",
    "b = int(input(\"Please enter value b\"))\n",
    "c = int(input(\"Please enter value c\"))\n",
    "\n",
    "d = (b**2 - 4*a*c)\n",
    "sqrt_d = (int(d)**(1/2))\n",
    "\n",
    "if d <0:\n",
    "    root_count = 0\n",
    "\n",
    "elif d == 0:\n",
    "    root_count = 1\n",
    "    root_value1 = -b + sqrt_d / 2*a\n",
    "\n",
    "elif d >0:\n",
    "    root_count = 2\n",
    "    root_value1 = -b + sqrt_d / 2*a\n",
    "    root_value2 = -b - sqrt_d / 2*a\n",
    "\n",
    "print(\"Number of roots:\", root_count)\n",
    "\n",
    "if root_count == 1:\n",
    "    print(\"Root value:\", root_value1)\n",
    "elif root_count == 2:\n",
    "    print(\"Root values:\", root_value1, \"and\", root_value2)"
   ]
  },
  {
   "cell_type": "code",
   "execution_count": 9,
   "metadata": {},
   "outputs": [
    {
     "name": "stdout",
     "output_type": "stream",
     "text": [
      "Average: 32.4\n"
     ]
    }
   ],
   "source": [
    "#3\n",
    "\n",
    "numberList = []\n",
    "\n",
    "while True:\n",
    "\n",
    "    i = int(input(\"Enter a number: \"))\n",
    "    numberList.append(i)\n",
    "\n",
    "    if i == 0:\n",
    "        numberList.remove(0)\n",
    "        break\n",
    "\n",
    "print(\"Average:\", sum(numberList) / len(numberList))"
   ]
  },
  {
   "cell_type": "code",
   "execution_count": 10,
   "metadata": {},
   "outputs": [
    {
     "data": {
      "text/html": [
       "<div>\n",
       "<style scoped>\n",
       "    .dataframe tbody tr th:only-of-type {\n",
       "        vertical-align: middle;\n",
       "    }\n",
       "\n",
       "    .dataframe tbody tr th {\n",
       "        vertical-align: top;\n",
       "    }\n",
       "\n",
       "    .dataframe thead th {\n",
       "        text-align: right;\n",
       "    }\n",
       "</style>\n",
       "<table border=\"1\" class=\"dataframe\">\n",
       "  <thead>\n",
       "    <tr style=\"text-align: right;\">\n",
       "      <th></th>\n",
       "      <th>Celsius</th>\n",
       "      <th>Fahrenheit</th>\n",
       "    </tr>\n",
       "  </thead>\n",
       "  <tbody>\n",
       "    <tr>\n",
       "      <th>0</th>\n",
       "      <td>0</td>\n",
       "      <td>32</td>\n",
       "    </tr>\n",
       "    <tr>\n",
       "      <th>1</th>\n",
       "      <td>10</td>\n",
       "      <td>50</td>\n",
       "    </tr>\n",
       "    <tr>\n",
       "      <th>2</th>\n",
       "      <td>20</td>\n",
       "      <td>68</td>\n",
       "    </tr>\n",
       "    <tr>\n",
       "      <th>3</th>\n",
       "      <td>30</td>\n",
       "      <td>86</td>\n",
       "    </tr>\n",
       "    <tr>\n",
       "      <th>4</th>\n",
       "      <td>40</td>\n",
       "      <td>104</td>\n",
       "    </tr>\n",
       "    <tr>\n",
       "      <th>5</th>\n",
       "      <td>50</td>\n",
       "      <td>122</td>\n",
       "    </tr>\n",
       "    <tr>\n",
       "      <th>6</th>\n",
       "      <td>60</td>\n",
       "      <td>140</td>\n",
       "    </tr>\n",
       "    <tr>\n",
       "      <th>7</th>\n",
       "      <td>70</td>\n",
       "      <td>158</td>\n",
       "    </tr>\n",
       "    <tr>\n",
       "      <th>8</th>\n",
       "      <td>80</td>\n",
       "      <td>176</td>\n",
       "    </tr>\n",
       "    <tr>\n",
       "      <th>9</th>\n",
       "      <td>90</td>\n",
       "      <td>194</td>\n",
       "    </tr>\n",
       "    <tr>\n",
       "      <th>10</th>\n",
       "      <td>100</td>\n",
       "      <td>212</td>\n",
       "    </tr>\n",
       "  </tbody>\n",
       "</table>\n",
       "</div>"
      ],
      "text/plain": [
       "    Celsius  Fahrenheit\n",
       "0         0          32\n",
       "1        10          50\n",
       "2        20          68\n",
       "3        30          86\n",
       "4        40         104\n",
       "5        50         122\n",
       "6        60         140\n",
       "7        70         158\n",
       "8        80         176\n",
       "9        90         194\n",
       "10      100         212"
      ]
     },
     "execution_count": 10,
     "metadata": {},
     "output_type": "execute_result"
    }
   ],
   "source": [
    "#4\n",
    "\n",
    "from pandas import DataFrame\n",
    "\n",
    "celsius = []\n",
    "fahrenheit = []\n",
    "t = 0\n",
    "\n",
    "while t <=100:\n",
    "    celsius.append(t)\n",
    "    fahrenheit.append(int(t * 9/5 + 32))\n",
    "    t +=10\n",
    "\n",
    "DataFrame({\"Celsius\":celsius, \"Fahrenheit\":fahrenheit})\n"
   ]
  },
  {
   "cell_type": "code",
   "execution_count": 11,
   "metadata": {},
   "outputs": [
    {
     "name": "stdout",
     "output_type": "stream",
     "text": [
      "The price for your group is $74.00\n"
     ]
    }
   ],
   "source": [
    "#5\n",
    "\n",
    "price = []\n",
    "\n",
    "while True:\n",
    "    age = (input(\"Enter guest's age: \"))\n",
    "\n",
    "    if age == \"\":\n",
    "        break\n",
    "    \n",
    "    elif int(age) < 0:\n",
    "        print(\"Error, please enter valid age\")\n",
    "            \n",
    "    elif int(age) >=3 and int(age) <=12:\n",
    "        price.append(14)\n",
    "\n",
    "    elif int(age) >=13 and int(age) <=64:\n",
    "        price.append(23)\n",
    "\n",
    "    elif int(age) >=65:\n",
    "        price.append(18)\n",
    "\n",
    "print(f\"The price for your group is ${sum(price):.2f}\")"
   ]
  },
  {
   "cell_type": "code",
   "execution_count": 12,
   "metadata": {},
   "outputs": [
    {
     "name": "stdout",
     "output_type": "stream",
     "text": [
      "The hypotenuse of your triangle is 22.0227\n"
     ]
    }
   ],
   "source": [
    "#6\n",
    "\n",
    "def pythagoras(s1, s2):\n",
    "    h = (s1**2 + s2**2) **(1/2)\n",
    "    return round(h, 4)\n",
    "\n",
    "user_s1 = int(input(\"Enter length of first side\"))\n",
    "user_s2 = int(input(\"Enter length of second side\"))\n",
    "\n",
    "print(\"The hypotenuse of your triangle is\", pythagoras(user_s1, user_s2))"
   ]
  },
  {
   "cell_type": "code",
   "execution_count": 13,
   "metadata": {},
   "outputs": [
    {
     "name": "stdout",
     "output_type": "stream",
     "text": [
      "The shipping fee for your order is $25.7\n"
     ]
    }
   ],
   "source": [
    "#7\n",
    "\n",
    "def shipping():\n",
    "    n = float(input(\"Enter number of items: \"))\n",
    "    cost = round((10.95 + (n-1) * 2.95), 2)\n",
    "    \n",
    "    print(f\"The shipping fee for your order is ${cost}\")\n",
    "\n",
    "shipping()"
   ]
  },
  {
   "cell_type": "code",
   "execution_count": 14,
   "metadata": {},
   "outputs": [
    {
     "name": "stdout",
     "output_type": "stream",
     "text": [
      "True\n"
     ]
    }
   ],
   "source": [
    "#8\n",
    "\n",
    "def strong_password(password):\n",
    "    result = [0, 0, 0]\n",
    "    \n",
    "    if len(password) >= 8:\n",
    " \n",
    "        for char in password:\n",
    "            if char.islower():\n",
    "                result[0] = 1\n",
    "\n",
    "            if char.isupper():\n",
    "                result[1] = 1\n",
    "\n",
    "            if char.isdigit():\n",
    "                result[2] = 1\n",
    "\n",
    "    if 0 in result: \n",
    "        return False\n",
    "    else: \n",
    "        return True\n",
    "\n",
    "print(strong_password(\"Pa55word\"))"
   ]
  }
 ],
 "metadata": {
  "kernelspec": {
   "display_name": "Python 3.10.4 64-bit",
   "language": "python",
   "name": "python3"
  },
  "language_info": {
   "codemirror_mode": {
    "name": "ipython",
    "version": 3
   },
   "file_extension": ".py",
   "mimetype": "text/x-python",
   "name": "python",
   "nbconvert_exporter": "python",
   "pygments_lexer": "ipython3",
   "version": "3.10.4"
  },
  "orig_nbformat": 4,
  "vscode": {
   "interpreter": {
    "hash": "3ad933181bd8a04b432d3370b9dc3b0662ad032c4dfaa4e4f1596c548f763858"
   }
  }
 },
 "nbformat": 4,
 "nbformat_minor": 2
}
