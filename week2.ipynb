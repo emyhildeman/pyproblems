{
 "cells": [
  {
   "cell_type": "code",
   "execution_count": 1,
   "metadata": {},
   "outputs": [
    {
     "name": "stdout",
     "output_type": "stream",
     "text": [
      "It takes approx. 4.24 hours to fly from Stockholm to Cairo\n"
     ]
    }
   ],
   "source": [
    "#1\n",
    "\n",
    "import math\n",
    "\n",
    "# a\n",
    "city1 = input(\"Enter your current city:\")\n",
    "lat1 = input(\"Current latitude:\")\n",
    "long1 = input(\"Current longitude:\")\n",
    "\n",
    "city2 = input(\"Enter your destination city:\")\n",
    "lat2 = input(\"Destination latitude:\")\n",
    "long2 = input(\"Destination longitude:\")\n",
    "\n",
    "lat1 = math.radians(float(lat1))\n",
    "long1 = math.radians(float(long1))\n",
    "lat2 = math.radians(float(lat2))\n",
    "long2 = math.radians(float(long2))\n",
    "\n",
    "#b\n",
    "distance = 6371.01 * math.acos(math.sin(lat1) *(lat2)+math.cos(lat1)* math.cos(lat2)* math.cos(long1-long2))\n",
    "\n",
    "#c\n",
    "time = round((distance / 740), 2)\n",
    "\n",
    "print(f\"It takes approx. {time} hours to fly from {city1} to {city2}\")"
   ]
  },
  {
   "cell_type": "code",
   "execution_count": 3,
   "metadata": {},
   "outputs": [
    {
     "name": "stdout",
     "output_type": "stream",
     "text": [
      "Mean: 8.333333333333334\n"
     ]
    }
   ],
   "source": [
    "#2\n",
    "\n",
    "def mean(number1, number2, number3):\n",
    "    numberList = [number1, number2, number3]\n",
    "    print(\"Mean:\", sum(numberList) / len(numberList))\n",
    "\n",
    "mean(float(input(\"Enter a number: \")), \n",
    "    float(input(\"Enter a second number: \")), \n",
    "    float(input(\"Enter a third number: \")))"
   ]
  },
  {
   "cell_type": "code",
   "execution_count": 5,
   "metadata": {},
   "outputs": [
    {
     "name": "stdout",
     "output_type": "stream",
     "text": [
      "['Heyhey', 'Im', 'good', 'Howre', 'you']\n"
     ]
    }
   ],
   "source": [
    "#3\n",
    "\n",
    "def words(_string):\n",
    "    punct = [\",\", \".\", \"?\", \"-\", \"'\", \"!\", \":\",\";\"]\n",
    "    index = 0\n",
    "\n",
    "    while index < len(_string):\n",
    "           if _string[index] in punct:\n",
    "               _string = _string.replace(_string[index], \"\")\n",
    "           index +=1\n",
    "\n",
    "    return _string.split()\n",
    "\n",
    "print(words(input(\"Please enter a punctuated sentence: \")))"
   ]
  },
  {
   "cell_type": "code",
   "execution_count": 1,
   "metadata": {},
   "outputs": [
    {
     "name": "stdout",
     "output_type": "stream",
     "text": [
      "{'john': 25}\n",
      "{'john': 25, 'emma': 35}\n",
      "{'john': 25, 'emma': 35, 'alex': 20}\n"
     ]
    }
   ],
   "source": [
    "#4\n",
    "\n",
    "classdb = {}\n",
    "\n",
    "while True:\n",
    "    name = input(\"Enter student's name: \")\n",
    "    \n",
    "    if name == \"\":\n",
    "        break\n",
    "\n",
    "    else:\n",
    "        score = int(input(\"Enter student's score: \"))\n",
    "        classdb[name] = score\n",
    "\n",
    "    print(classdb)\n"
   ]
  },
  {
   "cell_type": "code",
   "execution_count": 3,
   "metadata": {},
   "outputs": [
    {
     "name": "stdout",
     "output_type": "stream",
     "text": [
      "13 is a prime number\n"
     ]
    }
   ],
   "source": [
    "#5\n",
    "\n",
    "def prime(i):\n",
    "    if i <= 1:\n",
    "        return False\n",
    "    for number in range(2, i):\n",
    "            if i % number == 0:\n",
    "                return False\n",
    "    return True\n",
    "\n",
    "x = int(input(\"Please enter a number: \"))\n",
    "fun = prime(x)\n",
    "\n",
    "if fun:\n",
    "    print(x, \"is a prime number\")\n",
    "else:\n",
    "     print(x, \"is not a prime number\")"
   ]
  }
 ],
 "metadata": {
  "kernelspec": {
   "display_name": "Python 3.10.4 64-bit",
   "language": "python",
   "name": "python3"
  },
  "language_info": {
   "codemirror_mode": {
    "name": "ipython",
    "version": 3
   },
   "file_extension": ".py",
   "mimetype": "text/x-python",
   "name": "python",
   "nbconvert_exporter": "python",
   "pygments_lexer": "ipython3",
   "version": "3.10.4"
  },
  "orig_nbformat": 4,
  "vscode": {
   "interpreter": {
    "hash": "3ad933181bd8a04b432d3370b9dc3b0662ad032c4dfaa4e4f1596c548f763858"
   }
  }
 },
 "nbformat": 4,
 "nbformat_minor": 2
}
